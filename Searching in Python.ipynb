{
 "cells": [
  {
   "cell_type": "code",
   "execution_count": 16,
   "id": "1becc154",
   "metadata": {},
   "outputs": [
    {
     "name": "stdout",
     "output_type": "stream",
     "text": [
      "Enter the number of elements8\n",
      "Enter elements:-\n",
      "5\n",
      "Enter elements:-\n",
      "9\n",
      "Enter elements:-\n",
      "2\n",
      "Enter elements:-\n",
      "7\n",
      "Enter elements:-\n",
      "0\n",
      "Enter elements:-\n",
      "1\n",
      "Enter elements:-\n",
      "3\n",
      "Enter elements:-\n",
      "6\n",
      "The entered Elements are:- [5, 9, 2, 7, 0, 1, 3, 6]\n",
      "enter the element to search:-0\n",
      "Element found at: 5\n"
     ]
    }
   ],
   "source": [
    "# Linear search using python\n",
    "def linearSearch(arr, n, x):\n",
    "    for i in range(0,n):\n",
    "        if arr[i]==x:\n",
    "            return i\n",
    "    return -1\n",
    "\n",
    "arr=[]\n",
    "n=int(input(\"Enter the number of elements\"))\n",
    "for i in range(0,n):\n",
    "    a=int(input(\"Enter elements:-\\n\"))\n",
    "    arr.append(a)\n",
    "print(\"The entered Elements are:-\",arr)\n",
    "x=int(input(\"enter the element to search:-\"))\n",
    "ans = linearSearch(arr, n, x)\n",
    "if ans==-1:\n",
    "    print(\"Element not found.\")\n",
    "else:\n",
    "    print(\"Element found at:\", ans+1)\n"
   ]
  },
  {
   "cell_type": "code",
   "execution_count": null,
   "id": "dd2d98d1",
   "metadata": {},
   "outputs": [
    {
     "name": "stdout",
     "output_type": "stream",
     "text": [
      "Enter the number of elements8\n",
      "Enter elements:-\n",
      "1\n",
      "Enter elements:-\n",
      "2\n",
      "Enter elements:-\n",
      "3\n",
      "Enter elements:-\n",
      "4\n",
      "Enter elements:-\n",
      "5\n",
      "Enter elements:-\n",
      "6\n",
      "Enter elements:-\n",
      "7\n",
      "Enter elements:-\n",
      "8\n",
      "The entered Elements are:- [1, 2, 3, 4, 5, 6, 7, 8]\n",
      "enter the element to search:-8\n"
     ]
    }
   ],
   "source": [
    "#Binary Search\n",
    "def binarySearch(arr, low, high, x):\n",
    "    low = 0\n",
    "    high= len(arr)\n",
    "    mid = (low +high)//2\n",
    "    if x==arr[mid]:\n",
    "        return mid\n",
    "    elif x > mid:\n",
    "        return binarySearch(arr, low, mid-1,x)\n",
    "    else:\n",
    "        return binarySearch(arr, mid +1, high, x)\n",
    "    return -1 \n",
    "    \n",
    "    \n",
    "arr=[]\n",
    "n=int(input(\"Enter the number of elements\"))\n",
    "for i in range(0,n):\n",
    "    a=int(input(\"Enter elements:-\\n\"))\n",
    "    arr.append(a)\n",
    "print(\"The entered Elements are:-\",arr)\n",
    "x=int(input(\"enter the element to search:-\"))\n",
    "ans = binarySearch(arr, 0, len(arr), x)\n",
    "if ans==-1:\n",
    "    print(\"Element not found.\")\n",
    "else:\n",
    "    print(\"Element found at:\", ans)\n"
   ]
  },
  {
   "cell_type": "code",
   "execution_count": null,
   "id": "011db36f",
   "metadata": {},
   "outputs": [],
   "source": []
  }
 ],
 "metadata": {
  "kernelspec": {
   "display_name": "Python 3 (ipykernel)",
   "language": "python",
   "name": "python3"
  },
  "language_info": {
   "codemirror_mode": {
    "name": "ipython",
    "version": 3
   },
   "file_extension": ".py",
   "mimetype": "text/x-python",
   "name": "python",
   "nbconvert_exporter": "python",
   "pygments_lexer": "ipython3",
   "version": "3.9.13"
  }
 },
 "nbformat": 4,
 "nbformat_minor": 5
}
